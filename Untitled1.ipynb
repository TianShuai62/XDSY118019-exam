{
 "cells": [
  {
   "cell_type": "code",
   "execution_count": 2,
   "id": "b1343f50",
   "metadata": {},
   "outputs": [],
   "source": [
    "def collatz(number):\n",
    "    if number % 2 == 0:\n",
    "        return number / 2\n",
    "    else :\n",
    "        return 3 * number + 1\n",
    "    #创建一个考拉兹函数#"
   ]
  },
  {
   "cell_type": "code",
   "execution_count": 2,
   "id": "98b8a39e",
   "metadata": {},
   "outputs": [
    {
     "name": "stdout",
     "output_type": "stream",
     "text": [
      "Enter number:\n",
      "56\n",
      "Error\n"
     ]
    }
   ],
   "source": [
    "i=1\n",
    "try:\n",
    "    print('Enter number:')\n",
    "    input_number = int(input())\n",
    "    while input_number != 1:\n",
    "        input_number = collatz(input_number)\n",
    "        print(input_number)\n",
    "        i = i + 1\n",
    "        x = i\n",
    "        y = input_number\n",
    "        plt.plot(x,y,'o')\n",
    "except:\n",
    "    print('Error')"
   ]
  }
 ],
 "metadata": {
  "kernelspec": {
   "display_name": "Python 3 (ipykernel)",
   "language": "python",
   "name": "python3"
  },
  "language_info": {
   "codemirror_mode": {
    "name": "ipython",
    "version": 3
   },
   "file_extension": ".py",
   "mimetype": "text/x-python",
   "name": "python",
   "nbconvert_exporter": "python",
   "pygments_lexer": "ipython3",
   "version": "3.9.12"
  }
 },
 "nbformat": 4,
 "nbformat_minor": 5
}
